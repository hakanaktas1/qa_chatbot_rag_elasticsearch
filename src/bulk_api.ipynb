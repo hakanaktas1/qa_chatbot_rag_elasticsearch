{
 "cells": [
  {
   "cell_type": "code",
   "execution_count": 1,
   "metadata": {},
   "outputs": [],
   "source": [
    "import json"
   ]
  },
  {
   "cell_type": "code",
   "execution_count": 2,
   "metadata": {},
   "outputs": [],
   "source": [
    "# Veri dosyasını okuyup yükleme\n",
    "input_file = \"dataset_with_embeddings.json\"  # Okunacak dosya\n",
    "output_file = \"bulk_data.json\"  # Kaydedilecek dosya\n"
   ]
  },
  {
   "cell_type": "code",
   "execution_count": 5,
   "metadata": {},
   "outputs": [],
   "source": [
    "\n",
    "# Dosyayı oku\n",
    "with open(input_file, \"r\", encoding=\"utf-8\") as file:\n",
    "    data = json.load(file)\n",
    "\n",
    "# Bulk API formatına dönüştür\n",
    "bulk_data = \"\"\n",
    "for entry in data:\n",
    "    bulk_data += json.dumps({\"index\": {}}) + \"\\n\"  # Elasticsearch index metadata\n",
    "    bulk_data += json.dumps(entry, ensure_ascii=False) + \"\\n\"  # Gerçek veri\n"
   ]
  },
  {
   "cell_type": "code",
   "execution_count": 7,
   "metadata": {},
   "outputs": [
    {
     "name": "stdout",
     "output_type": "stream",
     "text": [
      "Bulk API formatındaki veri bulk_data.json dosyasına kaydedildi.\n"
     ]
    }
   ],
   "source": [
    "\n",
    "# Sonuçları dosyaya yaz\n",
    "with open(output_file, \"w\", encoding=\"utf-8\") as file:\n",
    "    file.write(bulk_data)\n",
    "\n",
    "print(f\"Bulk API formatındaki veri {output_file} dosyasına kaydedildi.\")"
   ]
  }
 ],
 "metadata": {
  "kernelspec": {
   "display_name": "base",
   "language": "python",
   "name": "python3"
  },
  "language_info": {
   "codemirror_mode": {
    "name": "ipython",
    "version": 3
   },
   "file_extension": ".py",
   "mimetype": "text/x-python",
   "name": "python",
   "nbconvert_exporter": "python",
   "pygments_lexer": "ipython3",
   "version": "3.11.7"
  }
 },
 "nbformat": 4,
 "nbformat_minor": 2
}
