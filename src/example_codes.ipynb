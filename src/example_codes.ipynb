{
 "cells": [
  {
   "cell_type": "code",
   "execution_count": 1,
   "metadata": {},
   "outputs": [
    {
     "name": "stdout",
     "output_type": "stream",
     "text": [
      "Collecting Elasticsearch==7.6\n",
      "  Downloading elasticsearch-7.6.0-py2.py3-none-any.whl.metadata (7.3 kB)\n",
      "Requirement already satisfied: urllib3>=1.21.1 in c:\\users\\h00878680\\anaconda3\\lib\\site-packages (from Elasticsearch==7.6) (2.0.7)\n",
      "Downloading elasticsearch-7.6.0-py2.py3-none-any.whl (88 kB)\n",
      "   ---------------------------------------- 0.0/88.7 kB ? eta -:--:--\n",
      "   --------- ------------------------------ 20.5/88.7 kB 640.0 kB/s eta 0:00:01\n",
      "   --------------------------- ------------ 61.4/88.7 kB 656.4 kB/s eta 0:00:01\n",
      "   ---------------------------------------- 88.7/88.7 kB 834.6 kB/s eta 0:00:00\n",
      "Installing collected packages: Elasticsearch\n",
      "Successfully installed Elasticsearch-7.6.0\n"
     ]
    }
   ],
   "source": [
    "! pip install Elasticsearch==7.6"
   ]
  },
  {
   "cell_type": "code",
   "execution_count": 3,
   "metadata": {},
   "outputs": [],
   "source": [
    "from elasticsearch import Elasticsearch\n",
    "from elasticsearch import helpers"
   ]
  },
  {
   "cell_type": "code",
   "execution_count": 4,
   "metadata": {},
   "outputs": [],
   "source": [
    "# Create the Elasticsearch client.\n",
    "def get_client(hosts: list, user: str = None, password: str = None):\n",
    "    if user and password:\n",
    "        return Elasticsearch(hosts, http_auth=(user, password), verify_certs=False, ssl_show_warn=False)\n",
    "    else:\n",
    "        return Elasticsearch(hosts)"
   ]
  },
  {
   "cell_type": "code",
   "execution_count": null,
   "metadata": {},
   "outputs": [],
   "source": [
    "# Create an index table.\n",
    "def create(client: Elasticsearch, index: str):\n",
    "    # Index mapping information\n",
    "    index_mapping = {\n",
    "        \"settings\": {\n",
    "            \"index\": {\n",
    "                \"vector\": \"true\",  # Enable the vector feature.\n",
    "                \"number_of_shards\": 1,  # Set the number of index shards as needed.\n",
    "                \"number_of_replicas\": 0,  # Set the number of index replicas as needed.\n",
    "            }\n",
    "        },\n",
    "        \"mappings\": {\n",
    "            \"properties\": {\n",
    "                \"my_vector\": {\n",
    "                    \"type\": \"vector\",\n",
    "                    \"dimension\": 234,\n",
    "                    \"indexing\": True,\n",
    "                    \"algorithm\": \"GRAPH\",\n",
    "                    \"metric\": \"euclidean\"\n",
    "                }\n",
    "            }\n",
    "        }\n",
    "    }\n",
    "    res = client.indices.create(index=index, body=index_mapping)\n",
    "    print(\"create index result: \", res)"
   ]
  },
  {
   "cell_type": "code",
   "execution_count": 5,
   "metadata": {},
   "outputs": [],
   "source": [
    "# Write data.\n",
    "def write(client: Elasticsearch, index: str, vecs: list, bulk_size=500):\n",
    "    for i in range(0, len(vecs), bulk_size):\n",
    "        actions = [\n",
    "            {\n",
    "                \"_index\": index,\n",
    "                \"my_vector\": vec,\n",
    "                # Other fields can be added if necessary.\n",
    "            }\n",
    "            for vec in vecs[i: i+bulk_size]\n",
    "        ]\n",
    "        success, errors = helpers.bulk(client, actions, request_timeout=3600)\n",
    "        if errors:\n",
    "            print(\"write bulk failed with errors: \", errors)  # Handle the error as needed.\n",
    "        else:\n",
    "            print(\"write bulk {} docs success\".format(success))\n",
    "    client.indices.refresh(index=index, request_timeout=3600)"
   ]
  },
  {
   "cell_type": "code",
   "execution_count": 7,
   "metadata": {},
   "outputs": [],
   "source": [
    "# Query a vector index.\n",
    "def search(client: Elasticsearch, index: str, query: list, size: int):\n",
    "    # Query statement. Select an appropriate query method.\n",
    "    query_body = {\n",
    "        \"size\": size,\n",
    "        \"query\": {\n",
    "            \"vector\": {\n",
    "                \"my_vector\": {\n",
    "                    \"vector\": query,\n",
    "                    \"topk\": size\n",
    "                }\n",
    "            }\n",
    "        }\n",
    "    }\n",
    "    res = client.search(index=index, body=query_body)\n",
    "    print(\"search index result: \", res)"
   ]
  },
  {
   "cell_type": "code",
   "execution_count": 8,
   "metadata": {},
   "outputs": [],
   "source": [
    "# Delete an index.\n",
    "def delete(client: Elasticsearch, index: str):\n",
    "    res = client.indices.delete(index=index)\n",
    "    print(\"delete index result: \", res)"
   ]
  },
  {
   "cell_type": "code",
   "execution_count": 16,
   "metadata": {},
   "outputs": [],
   "source": [
    "# For a non-security cluster, run the following:\n",
    "# es_client = get_client(hosts=['http://192.168.2.114:9200'])\n",
    "\n",
    "# For a security cluster with HTTPS enabled, run the following:\n",
    "es_client = get_client(hosts=['https://159.138.111.237:9200'], user='admin', password='Huawei@1234')"
   ]
  },
  {
   "cell_type": "code",
   "execution_count": 23,
   "metadata": {},
   "outputs": [
    {
     "name": "stdout",
     "output_type": "stream",
     "text": [
      "create index result:  {'acknowledged': True, 'shards_acknowledged': True, 'index': 'my_index'}\n"
     ]
    }
   ],
   "source": [
    "# Test the index name.\n",
    "index_name = \"my_index\"\n",
    "\n",
    "# Create an index.\n",
    "create(es_client, index=index_name)"
   ]
  },
  {
   "cell_type": "code",
   "execution_count": 24,
   "metadata": {},
   "outputs": [
    {
     "name": "stdout",
     "output_type": "stream",
     "text": [
      "write bulk 3 docs success\n"
     ]
    }
   ],
   "source": [
    "# Write data.\n",
    "data = [[1.0, 1.0], [2.0, 2.0], [3.0, 3.0]]\n",
    "write(es_client, index=index_name, vecs=data)\n"
   ]
  },
  {
   "cell_type": "code",
   "execution_count": 26,
   "metadata": {},
   "outputs": [
    {
     "name": "stdout",
     "output_type": "stream",
     "text": [
      "search index result:  {'took': 2, 'timed_out': False, '_shards': {'total': 1, 'successful': 1, 'skipped': 0, 'failed': 0}, 'hits': {'total': {'value': 1, 'relation': 'eq'}, 'max_score': 1.0, 'hits': [{'_index': 'my_index', '_type': '_doc', '_id': 'JhMEZZQB_Mdea1bj7QSg', '_score': 1.0, '_source': {'my_vector': [1.0, 1.0]}}]}}\n"
     ]
    }
   ],
   "source": [
    "# Query an index.\n",
    "query_vector = [1.0, 1.0]\n",
    "search(es_client, index=index_name, query=query_vector, size=1)"
   ]
  },
  {
   "cell_type": "code",
   "execution_count": null,
   "metadata": {},
   "outputs": [],
   "source": []
  },
  {
   "cell_type": "code",
   "execution_count": 20,
   "metadata": {},
   "outputs": [
    {
     "name": "stdout",
     "output_type": "stream",
     "text": [
      "delete index result:  {'acknowledged': True}\n"
     ]
    }
   ],
   "source": [
    "# Delete an index.\n",
    "delete(es_client, index=index_name)"
   ]
  },
  {
   "cell_type": "code",
   "execution_count": null,
   "metadata": {},
   "outputs": [],
   "source": [
    "# For a non-security cluster, run the following:\n",
    "# es_client = get_client(hosts=['http://192.168.2.114:9200'])\n",
    "\n",
    "# For a security cluster with HTTPS enabled, run the following:\n",
    "# es_client = get_client(hosts=['https://x.x.x.x:9200', 'https://x.x.x.x:9200'], user='xxxxx', password='xxxxx')\n",
    "\n",
    "# For a security cluster with HTTPS disabled, run the following:\n",
    "# es_client = get_client(hosts=['http://x.x.x.x:9200', 'http://x.x.x.x:9200'], user='xxxxx', password='xxxxx')"
   ]
  }
 ],
 "metadata": {
  "kernelspec": {
   "display_name": "base",
   "language": "python",
   "name": "python3"
  },
  "language_info": {
   "codemirror_mode": {
    "name": "ipython",
    "version": 3
   },
   "file_extension": ".py",
   "mimetype": "text/x-python",
   "name": "python",
   "nbconvert_exporter": "python",
   "pygments_lexer": "ipython3",
   "version": "3.11.7"
  }
 },
 "nbformat": 4,
 "nbformat_minor": 2
}
