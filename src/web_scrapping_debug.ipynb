{
 "cells": [
  {
   "cell_type": "code",
   "execution_count": 3,
   "metadata": {},
   "outputs": [],
   "source": [
    "import requests\n",
    "from bs4 import BeautifulSoup\n",
    "import pandas as pd\n",
    "import json\n"
   ]
  },
  {
   "cell_type": "code",
   "execution_count": 5,
   "metadata": {},
   "outputs": [],
   "source": [
    "\n",
    "# URL of the FAQ page\n",
    "url = 'https://www.getirarac.com/tr/sikca-sorulan-sorular#genel-bilgiler-kullanim-ve-kosullar'\n",
    "\n",
    "# Send a request to get the HTML content of the page\n",
    "response = requests.get(url)\n",
    "html_content = response.content"
   ]
  },
  {
   "cell_type": "code",
   "execution_count": 6,
   "metadata": {},
   "outputs": [],
   "source": [
    "# Parse the HTML content using BeautifulSoup\n",
    "soup = BeautifulSoup(html_content, 'html.parser')"
   ]
  },
  {
   "cell_type": "code",
   "execution_count": 7,
   "metadata": {},
   "outputs": [],
   "source": [
    "# Function to extract FAQs\n",
    "def extract_faqs(soup):\n",
    "    faqs = []\n",
    "\n",
    "    # Loop through the FAQ questions and answers\n",
    "    questions = soup.find_all('div', class_='question')\n",
    "    answers = soup.find_all('div', class_='answer')\n",
    "\n",
    "    for question, answer in zip(questions, answers):\n",
    "        # Extract the question text\n",
    "        question_text = question.find('span').get_text(strip=True) if question.find('span') else \"No question\"\n",
    "\n",
    "        # Extract the answer text (cleaning up HTML tags)\n",
    "        answer_text = answer.get_text(strip=True)\n",
    "\n",
    "        # Try to infer category based on parent section or other clues\n",
    "        category = \"General\"  # Default category (can be improved based on structure)\n",
    "        category_tag = question.find_previous('h2')  # Assuming category headings are in <h2> tags\n",
    "        if category_tag:\n",
    "            category = category_tag.get_text(strip=True)\n",
    "\n",
    "        # Append the FAQ to the list\n",
    "        faqs.append({\n",
    "            'category': category,\n",
    "            'question': question_text,\n",
    "            'answer': answer_text\n",
    "        })\n",
    "\n",
    "    return faqs"
   ]
  },
  {
   "cell_type": "code",
   "execution_count": 8,
   "metadata": {},
   "outputs": [
    {
     "name": "stdout",
     "output_type": "stream",
     "text": [
      "FAQ data saved to 'faq_data.csv' and 'faq_data.json'\n"
     ]
    }
   ],
   "source": [
    "# Extract FAQs\n",
    "faqs = extract_faqs(soup)\n",
    "\n",
    "# Save to CSV using pandas\n",
    "df = pd.DataFrame(faqs)\n",
    "df.to_csv('faq_data.csv', index=False)\n",
    "\n",
    "# Save to JSON\n",
    "with open('faq_data.json', 'w', encoding='utf-8') as json_file:\n",
    "    json.dump(faqs, json_file, ensure_ascii=False, indent=4)\n",
    "\n",
    "print(\"FAQ data saved to 'faq_data.csv' and 'faq_data.json'\")"
   ]
  },
  {
   "cell_type": "code",
   "execution_count": 10,
   "metadata": {},
   "outputs": [
    {
     "data": {
      "text/html": [
       "<div>\n",
       "<style scoped>\n",
       "    .dataframe tbody tr th:only-of-type {\n",
       "        vertical-align: middle;\n",
       "    }\n",
       "\n",
       "    .dataframe tbody tr th {\n",
       "        vertical-align: top;\n",
       "    }\n",
       "\n",
       "    .dataframe thead th {\n",
       "        text-align: right;\n",
       "    }\n",
       "</style>\n",
       "<table border=\"1\" class=\"dataframe\">\n",
       "  <thead>\n",
       "    <tr style=\"text-align: right;\">\n",
       "      <th></th>\n",
       "      <th>category</th>\n",
       "      <th>question</th>\n",
       "      <th>answer</th>\n",
       "    </tr>\n",
       "  </thead>\n",
       "  <tbody>\n",
       "    <tr>\n",
       "      <th>0</th>\n",
       "      <td>General</td>\n",
       "      <td>Güvenli Sürüş Puanı nedir?</td>\n",
       "      <td>Güvenli sürüşün takipçisiyiz! Araçlarımızdaki ...</td>\n",
       "    </tr>\n",
       "    <tr>\n",
       "      <th>1</th>\n",
       "      <td>General</td>\n",
       "      <td>GetirAraç nedir?</td>\n",
       "      <td>GetirAraç saatlik, dakikalık veya günlük araç ...</td>\n",
       "    </tr>\n",
       "    <tr>\n",
       "      <th>2</th>\n",
       "      <td>General</td>\n",
       "      <td>Günlük kullanıma geçiş nedir?</td>\n",
       "      <td>10 saati aşan kullanımların otomatik olarak gü...</td>\n",
       "    </tr>\n",
       "    <tr>\n",
       "      <th>3</th>\n",
       "      <td>General</td>\n",
       "      <td>Saatlik / günlük paketler nedir?</td>\n",
       "      <td>Saatlik ve günlük paketler, planı az çok belli...</td>\n",
       "    </tr>\n",
       "  </tbody>\n",
       "</table>\n",
       "</div>"
      ],
      "text/plain": [
       "  category                          question  \\\n",
       "0  General        Güvenli Sürüş Puanı nedir?   \n",
       "1  General                  GetirAraç nedir?   \n",
       "2  General     Günlük kullanıma geçiş nedir?   \n",
       "3  General  Saatlik / günlük paketler nedir?   \n",
       "\n",
       "                                              answer  \n",
       "0  Güvenli sürüşün takipçisiyiz! Araçlarımızdaki ...  \n",
       "1  GetirAraç saatlik, dakikalık veya günlük araç ...  \n",
       "2  10 saati aşan kullanımların otomatik olarak gü...  \n",
       "3  Saatlik ve günlük paketler, planı az çok belli...  "
      ]
     },
     "execution_count": 10,
     "metadata": {},
     "output_type": "execute_result"
    }
   ],
   "source": [
    "data = pd.read_csv('faq_data.csv')\n",
    "data.head(4)"
   ]
  },
  {
   "cell_type": "code",
   "execution_count": null,
   "metadata": {},
   "outputs": [],
   "source": []
  }
 ],
 "metadata": {
  "kernelspec": {
   "display_name": "base",
   "language": "python",
   "name": "python3"
  },
  "language_info": {
   "codemirror_mode": {
    "name": "ipython",
    "version": 3
   },
   "file_extension": ".py",
   "mimetype": "text/x-python",
   "name": "python",
   "nbconvert_exporter": "python",
   "pygments_lexer": "ipython3",
   "version": "3.11.7"
  }
 },
 "nbformat": 4,
 "nbformat_minor": 2
}
